{
 "cells": [
  {
   "cell_type": "markdown",
   "metadata": {},
   "source": [
    "Amazon review sentiment classifier by training a wordembedding network in keras using pre-trained embeddings."
   ]
  },
  {
   "cell_type": "markdown",
   "metadata": {},
   "source": [
    "1. Train word embedding network "
   ]
  },
  {
   "cell_type": "code",
   "execution_count": 1,
   "metadata": {},
   "outputs": [],
   "source": [
    "import numpy as np\n",
    "import pandas as pd\n",
    "import tensorflow as tf\n",
    "import os"
   ]
  },
  {
   "cell_type": "code",
   "execution_count": 2,
   "metadata": {},
   "outputs": [],
   "source": [
    "path = 'lstm_sentiment_classifier_data/'\n",
    "train_text = []\n",
    "train_label = []\n",
    "test_text = []\n",
    "test_label = []\n",
    "\n",
    "for folder in os.listdir(path):\n",
    "    for sentiment in os.listdir(os.path.join(path,folder)):\n",
    "        sentiment_path = os.path.join(path,folder,sentiment)\n",
    "        for text_file in os.listdir(sentiment_path):\n",
    "            text_path = os.path.join(sentiment_path,text_file)\n",
    "            with open(text_path,'r') as f:\n",
    "                if folder=='train':\n",
    "                    train_text.append(f.read())\n",
    "                    train_label.append(1 if sentiment=='pos' else 0)\n",
    "                else:\n",
    "                    test_text.append(f.read())\n",
    "                    test_label.append(1 if sentiment=='pos' else 0)\n"
   ]
  },
  {
   "cell_type": "code",
   "execution_count": 3,
   "metadata": {},
   "outputs": [],
   "source": [
    "vocab_size = 1000\n",
    "max_length = 40"
   ]
  },
  {
   "cell_type": "code",
   "execution_count": 4,
   "metadata": {
    "scrolled": true
   },
   "outputs": [],
   "source": [
    "train_index = [tf.keras.preprocessing.text.one_hot(text,vocab_size) for text in train_text]"
   ]
  },
  {
   "cell_type": "code",
   "execution_count": 5,
   "metadata": {},
   "outputs": [],
   "source": [
    "test_index = [tf.keras.preprocessing.text.one_hot(text,vocab_size) for text in test_text]"
   ]
  },
  {
   "cell_type": "code",
   "execution_count": 6,
   "metadata": {},
   "outputs": [],
   "source": [
    "train_pad = tf.keras.preprocessing.sequence.pad_sequences(train_index,max_length,padding='post') "
   ]
  },
  {
   "cell_type": "code",
   "execution_count": 7,
   "metadata": {},
   "outputs": [],
   "source": [
    "test_pad = tf.keras.preprocessing.sequence.pad_sequences(test_index,max_length,padding='post')"
   ]
  },
  {
   "cell_type": "code",
   "execution_count": 8,
   "metadata": {
    "scrolled": true
   },
   "outputs": [
    {
     "name": "stdout",
     "output_type": "stream",
     "text": [
      "Train on 4000 samples\n",
      "Epoch 1/20\n",
      "4000/4000 [==============================] - 1s 218us/sample - loss: 0.6835 - accuracy: 0.5583\n",
      "Epoch 2/20\n",
      "4000/4000 [==============================] - 0s 80us/sample - loss: 0.6151 - accuracy: 0.7327\n",
      "Epoch 3/20\n",
      "4000/4000 [==============================] - 0s 83us/sample - loss: 0.4943 - accuracy: 0.8207\n",
      "Epoch 4/20\n",
      "4000/4000 [==============================] - 0s 76us/sample - loss: 0.3794 - accuracy: 0.8805\n",
      "Epoch 5/20\n",
      "4000/4000 [==============================] - 0s 75us/sample - loss: 0.2861 - accuracy: 0.9302\n",
      "Epoch 6/20\n",
      "4000/4000 [==============================] - 0s 78us/sample - loss: 0.2085 - accuracy: 0.9672\n",
      "Epoch 7/20\n",
      "4000/4000 [==============================] - 0s 77us/sample - loss: 0.1497 - accuracy: 0.9868\n",
      "Epoch 8/20\n",
      "4000/4000 [==============================] - 0s 75us/sample - loss: 0.1074 - accuracy: 0.9950\n",
      "Epoch 9/20\n",
      "4000/4000 [==============================] - 0s 76us/sample - loss: 0.0779 - accuracy: 0.9980\n",
      "Epoch 10/20\n",
      "4000/4000 [==============================] - 0s 75us/sample - loss: 0.0577 - accuracy: 0.9987\n",
      "Epoch 11/20\n",
      "4000/4000 [==============================] - 0s 77us/sample - loss: 0.0440 - accuracy: 0.9992\n",
      "Epoch 12/20\n",
      "4000/4000 [==============================] - 0s 72us/sample - loss: 0.0342 - accuracy: 0.9995\n",
      "Epoch 13/20\n",
      "4000/4000 [==============================] - 0s 73us/sample - loss: 0.0271 - accuracy: 0.9995\n",
      "Epoch 14/20\n",
      "4000/4000 [==============================] - 0s 64us/sample - loss: 0.0221 - accuracy: 0.9995\n",
      "Epoch 15/20\n",
      "4000/4000 [==============================] - 0s 69us/sample - loss: 0.0182 - accuracy: 0.9995\n",
      "Epoch 16/20\n",
      "4000/4000 [==============================] - 0s 67us/sample - loss: 0.0153 - accuracy: 0.9995\n",
      "Epoch 17/20\n",
      "4000/4000 [==============================] - 0s 66us/sample - loss: 0.0130 - accuracy: 0.9995\n",
      "Epoch 18/20\n",
      "4000/4000 [==============================] - 0s 72us/sample - loss: 0.0110 - accuracy: 0.9995\n",
      "Epoch 19/20\n",
      "4000/4000 [==============================] - 0s 69us/sample - loss: 0.0095 - accuracy: 0.9992\n",
      "Epoch 20/20\n",
      "4000/4000 [==============================] - 0s 67us/sample - loss: 0.0083 - accuracy: 0.9995\n"
     ]
    },
    {
     "data": {
      "text/plain": [
       "<tensorflow.python.keras.callbacks.History at 0x7f7380490b70>"
      ]
     },
     "execution_count": 8,
     "metadata": {},
     "output_type": "execute_result"
    }
   ],
   "source": [
    "model = tf.keras.models.Sequential()\n",
    "model.add(tf.keras.layers.Embedding(vocab_size,50,input_length=max_length))\n",
    "model.add(tf.keras.layers.Flatten())\n",
    "model.add(tf.keras.layers.Dense(1,activation='sigmoid'))\n",
    "model.compile(optimizer='adam',loss='binary_crossentropy',metrics=['accuracy'])\n",
    "model.fit(train_pad,np.array(train_label),epochs=20)"
   ]
  },
  {
   "cell_type": "code",
   "execution_count": 9,
   "metadata": {
    "scrolled": true
   },
   "outputs": [
    {
     "data": {
      "text/plain": [
       "[0.8455369681119919, 0.6875]"
      ]
     },
     "execution_count": 9,
     "metadata": {},
     "output_type": "execute_result"
    }
   ],
   "source": [
    "model.evaluate(test_pad,np.array(test_label),verbose=0)"
   ]
  },
  {
   "cell_type": "markdown",
   "metadata": {},
   "source": [
    "Above model exhibits a high level of overfitting"
   ]
  },
  {
   "cell_type": "markdown",
   "metadata": {},
   "source": [
    "2. Glove embeddings - LSTM "
   ]
  },
  {
   "cell_type": "code",
   "execution_count": 10,
   "metadata": {},
   "outputs": [],
   "source": [
    "tokenizer = tf.keras.preprocessing.text.Tokenizer()"
   ]
  },
  {
   "cell_type": "code",
   "execution_count": 11,
   "metadata": {},
   "outputs": [],
   "source": [
    "tokenizer.fit_on_texts(train_text)"
   ]
  },
  {
   "cell_type": "code",
   "execution_count": 12,
   "metadata": {},
   "outputs": [],
   "source": [
    "uniq_words = tokenizer.word_index"
   ]
  },
  {
   "cell_type": "code",
   "execution_count": 13,
   "metadata": {},
   "outputs": [
    {
     "data": {
      "text/plain": [
       "17429"
      ]
     },
     "execution_count": 13,
     "metadata": {},
     "output_type": "execute_result"
    }
   ],
   "source": [
    "len(uniq_words)"
   ]
  },
  {
   "cell_type": "code",
   "execution_count": 14,
   "metadata": {
    "scrolled": true
   },
   "outputs": [],
   "source": [
    "embedding_matrix = np.zeros((len(uniq_words),50))"
   ]
  },
  {
   "cell_type": "code",
   "execution_count": 16,
   "metadata": {
    "scrolled": true
   },
   "outputs": [],
   "source": [
    "f = open('glove.6B.50d.txt','r')\n",
    "for word_embd in f:\n",
    "    word_vec = word_embd.split()\n",
    "    if(uniq_words.get(word_vec[0])):\n",
    "        embedding_matrix[uniq_words.get(word_vec[0])] = word_vec[1:]\n",
    "f.close()"
   ]
  },
  {
   "cell_type": "code",
   "execution_count": 17,
   "metadata": {},
   "outputs": [],
   "source": [
    "train_index = tokenizer.texts_to_sequences(train_text)"
   ]
  },
  {
   "cell_type": "code",
   "execution_count": 18,
   "metadata": {},
   "outputs": [],
   "source": [
    "test_index = tokenizer.texts_to_sequences(test_text)"
   ]
  },
  {
   "cell_type": "code",
   "execution_count": 19,
   "metadata": {},
   "outputs": [],
   "source": [
    "train_pad = tf.keras.preprocessing.sequence.pad_sequences(train_index,max_length,padding='post') "
   ]
  },
  {
   "cell_type": "code",
   "execution_count": 20,
   "metadata": {},
   "outputs": [],
   "source": [
    "test_pad = tf.keras.preprocessing.sequence.pad_sequences(test_index,max_length,padding='post') "
   ]
  },
  {
   "cell_type": "markdown",
   "metadata": {},
   "source": [
    "* Assess the performance of the network for different learning rates and then decide the optimum learning rate"
   ]
  },
  {
   "cell_type": "code",
   "execution_count": 46,
   "metadata": {},
   "outputs": [],
   "source": [
    "lr_start = 1e-3\n",
    "lr_end = 1e1\n",
    "n_epochs = 100\n",
    "change_per_epoch = (np.log10(lr_end/lr_start)) / n_epochs\n",
    "\n",
    "lr_sch = tf.keras.callbacks.LearningRateScheduler(\n",
    "        lambda epoch: lr_start *(10**(epoch * change_per_epoch)))\n",
    "\n",
    "optimizer = tf.keras.optimizers.SGD(lr=lr_start, momentum=0.9)"
   ]
  },
  {
   "cell_type": "code",
   "execution_count": 47,
   "metadata": {
    "scrolled": true
   },
   "outputs": [
    {
     "name": "stdout",
     "output_type": "stream",
     "text": [
      "Train on 4000 samples\n",
      "Epoch 1/100\n",
      "4000/4000 [==============================] - 3s 720us/sample - loss: 0.7052 - accuracy: 0.4835\n",
      "Epoch 2/100\n",
      "4000/4000 [==============================] - 1s 360us/sample - loss: 0.6945 - accuracy: 0.5325\n",
      "Epoch 3/100\n",
      "4000/4000 [==============================] - 1s 357us/sample - loss: 0.6876 - accuracy: 0.5468\n",
      "Epoch 4/100\n",
      "4000/4000 [==============================] - 1s 361us/sample - loss: 0.6855 - accuracy: 0.5592\n",
      "Epoch 5/100\n",
      "4000/4000 [==============================] - 1s 368us/sample - loss: 0.6769 - accuracy: 0.5832\n",
      "Epoch 6/100\n",
      "4000/4000 [==============================] - 2s 383us/sample - loss: 0.6838 - accuracy: 0.5655\n",
      "Epoch 7/100\n",
      "4000/4000 [==============================] - 2s 377us/sample - loss: 0.6862 - accuracy: 0.5477\n",
      "Epoch 8/100\n",
      "4000/4000 [==============================] - 1s 370us/sample - loss: 0.6728 - accuracy: 0.5880\n",
      "Epoch 9/100\n",
      "4000/4000 [==============================] - 1s 365us/sample - loss: 0.6683 - accuracy: 0.6018\n",
      "Epoch 10/100\n",
      "4000/4000 [==============================] - 1s 371us/sample - loss: 0.6689 - accuracy: 0.5965\n",
      "Epoch 11/100\n",
      "4000/4000 [==============================] - 2s 384us/sample - loss: 0.6708 - accuracy: 0.5900\n",
      "Epoch 12/100\n",
      "4000/4000 [==============================] - 1s 370us/sample - loss: 0.6518 - accuracy: 0.6298\n",
      "Epoch 13/100\n",
      "4000/4000 [==============================] - 1s 356us/sample - loss: 0.6569 - accuracy: 0.6177\n",
      "Epoch 14/100\n",
      "4000/4000 [==============================] - 1s 370us/sample - loss: 0.6485 - accuracy: 0.6360\n",
      "Epoch 15/100\n",
      "4000/4000 [==============================] - 1s 359us/sample - loss: 0.6471 - accuracy: 0.6332\n",
      "Epoch 16/100\n",
      "4000/4000 [==============================] - 2s 387us/sample - loss: 0.6387 - accuracy: 0.6445\n",
      "Epoch 17/100\n",
      "4000/4000 [==============================] - 2s 407us/sample - loss: 0.6283 - accuracy: 0.6578\n",
      "Epoch 18/100\n",
      "4000/4000 [==============================] - 2s 398us/sample - loss: 0.6333 - accuracy: 0.6475\n",
      "Epoch 19/100\n",
      "4000/4000 [==============================] - 2s 378us/sample - loss: 0.6189 - accuracy: 0.6693\n",
      "Epoch 20/100\n",
      "4000/4000 [==============================] - 1s 371us/sample - loss: 0.6145 - accuracy: 0.6655\n",
      "Epoch 21/100\n",
      "4000/4000 [==============================] - 2s 416us/sample - loss: 0.6012 - accuracy: 0.6852\n",
      "Epoch 22/100\n",
      "4000/4000 [==============================] - 2s 382us/sample - loss: 0.6055 - accuracy: 0.6750\n",
      "Epoch 23/100\n",
      "4000/4000 [==============================] - 2s 384us/sample - loss: 0.5905 - accuracy: 0.6875\n",
      "Epoch 24/100\n",
      "4000/4000 [==============================] - 2s 402us/sample - loss: 0.5777 - accuracy: 0.7023\n",
      "Epoch 25/100\n",
      "4000/4000 [==============================] - 2s 382us/sample - loss: 0.5681 - accuracy: 0.7160\n",
      "Epoch 26/100\n",
      "4000/4000 [==============================] - 2s 379us/sample - loss: 0.5768 - accuracy: 0.6948\n",
      "Epoch 27/100\n",
      "4000/4000 [==============================] - 2s 384us/sample - loss: 0.5588 - accuracy: 0.7155\n",
      "Epoch 28/100\n",
      "4000/4000 [==============================] - 1s 372us/sample - loss: 0.5607 - accuracy: 0.7138\n",
      "Epoch 29/100\n",
      "4000/4000 [==============================] - 1s 372us/sample - loss: 0.5503 - accuracy: 0.7168\n",
      "Epoch 30/100\n",
      "4000/4000 [==============================] - 1s 369us/sample - loss: 0.5497 - accuracy: 0.7207\n",
      "Epoch 31/100\n",
      "4000/4000 [==============================] - 1s 375us/sample - loss: 0.5435 - accuracy: 0.7293\n",
      "Epoch 32/100\n",
      "4000/4000 [==============================] - 1s 369us/sample - loss: 0.5386 - accuracy: 0.7308\n",
      "Epoch 33/100\n",
      "4000/4000 [==============================] - 1s 370us/sample - loss: 0.5434 - accuracy: 0.7272\n",
      "Epoch 34/100\n",
      "4000/4000 [==============================] - 1s 365us/sample - loss: 0.5345 - accuracy: 0.7400\n",
      "Epoch 35/100\n",
      "4000/4000 [==============================] - 2s 375us/sample - loss: 0.5331 - accuracy: 0.7360\n",
      "Epoch 36/100\n",
      "4000/4000 [==============================] - 1s 365us/sample - loss: 0.5333 - accuracy: 0.7272\n",
      "Epoch 37/100\n",
      "4000/4000 [==============================] - 1s 366us/sample - loss: 0.5193 - accuracy: 0.7460\n",
      "Epoch 38/100\n",
      "4000/4000 [==============================] - 1s 366us/sample - loss: 0.5126 - accuracy: 0.7490\n",
      "Epoch 39/100\n",
      "4000/4000 [==============================] - 1s 371us/sample - loss: 0.5141 - accuracy: 0.7495\n",
      "Epoch 40/100\n",
      "4000/4000 [==============================] - 1s 366us/sample - loss: 0.5151 - accuracy: 0.7462\n",
      "Epoch 41/100\n",
      "4000/4000 [==============================] - 1s 371us/sample - loss: 0.5097 - accuracy: 0.7580\n",
      "Epoch 42/100\n",
      "4000/4000 [==============================] - 1s 370us/sample - loss: 0.4965 - accuracy: 0.7673\n",
      "Epoch 43/100\n",
      "4000/4000 [==============================] - 1s 372us/sample - loss: 0.4992 - accuracy: 0.7623\n",
      "Epoch 44/100\n",
      "4000/4000 [==============================] - 1s 370us/sample - loss: 0.5172 - accuracy: 0.7545\n",
      "Epoch 45/100\n",
      "4000/4000 [==============================] - 1s 372us/sample - loss: 0.5069 - accuracy: 0.7523\n",
      "Epoch 46/100\n",
      "4000/4000 [==============================] - 1s 367us/sample - loss: 0.4967 - accuracy: 0.7630\n",
      "Epoch 47/100\n",
      "4000/4000 [==============================] - 1s 365us/sample - loss: 0.4925 - accuracy: 0.7665\n",
      "Epoch 48/100\n",
      "4000/4000 [==============================] - 2s 376us/sample - loss: 0.4950 - accuracy: 0.7558\n",
      "Epoch 49/100\n",
      "4000/4000 [==============================] - 2s 426us/sample - loss: 0.4797 - accuracy: 0.7757\n",
      "Epoch 50/100\n",
      "4000/4000 [==============================] - 2s 397us/sample - loss: 0.4781 - accuracy: 0.7765\n",
      "Epoch 51/100\n",
      "4000/4000 [==============================] - 2s 393us/sample - loss: 0.4887 - accuracy: 0.7607\n",
      "Epoch 52/100\n",
      "4000/4000 [==============================] - 2s 423us/sample - loss: 0.4664 - accuracy: 0.7790\n",
      "Epoch 53/100\n",
      "4000/4000 [==============================] - 2s 426us/sample - loss: 0.4884 - accuracy: 0.7648\n",
      "Epoch 54/100\n",
      "4000/4000 [==============================] - 2s 405us/sample - loss: 0.4781 - accuracy: 0.7692\n",
      "Epoch 55/100\n",
      "4000/4000 [==============================] - 2s 447us/sample - loss: 0.4752 - accuracy: 0.7740\n",
      "Epoch 56/100\n",
      "4000/4000 [==============================] - 2s 388us/sample - loss: 0.4569 - accuracy: 0.7843\n",
      "Epoch 57/100\n",
      "4000/4000 [==============================] - 2s 383us/sample - loss: 0.4730 - accuracy: 0.7757\n",
      "Epoch 58/100\n",
      "4000/4000 [==============================] - 2s 384us/sample - loss: 0.4649 - accuracy: 0.7810\n",
      "Epoch 59/100\n",
      "4000/4000 [==============================] - 2s 384us/sample - loss: 0.4823 - accuracy: 0.7638\n",
      "Epoch 60/100\n",
      "4000/4000 [==============================] - 2s 389us/sample - loss: 0.4720 - accuracy: 0.7768\n",
      "Epoch 61/100\n",
      "4000/4000 [==============================] - 2s 399us/sample - loss: 0.4834 - accuracy: 0.7705\n",
      "Epoch 62/100\n",
      "4000/4000 [==============================] - 2s 385us/sample - loss: 0.4832 - accuracy: 0.7717\n",
      "Epoch 63/100\n",
      "4000/4000 [==============================] - 2s 424us/sample - loss: 0.4771 - accuracy: 0.7780\n",
      "Epoch 64/100\n",
      "4000/4000 [==============================] - 2s 391us/sample - loss: 0.5038 - accuracy: 0.7560\n",
      "Epoch 65/100\n",
      "4000/4000 [==============================] - 2s 382us/sample - loss: 0.4871 - accuracy: 0.7590\n",
      "Epoch 66/100\n",
      "4000/4000 [==============================] - 2s 398us/sample - loss: 0.4943 - accuracy: 0.7620\n",
      "Epoch 67/100\n",
      "4000/4000 [==============================] - 2s 396us/sample - loss: 0.5153 - accuracy: 0.7467\n",
      "Epoch 68/100\n",
      "4000/4000 [==============================] - 1s 370us/sample - loss: 0.5168 - accuracy: 0.7473\n",
      "Epoch 69/100\n",
      "4000/4000 [==============================] - 2s 382us/sample - loss: 0.5148 - accuracy: 0.7473\n",
      "Epoch 70/100\n",
      "4000/4000 [==============================] - 2s 379us/sample - loss: 0.5140 - accuracy: 0.7470\n",
      "Epoch 71/100\n",
      "4000/4000 [==============================] - 2s 381us/sample - loss: 0.5323 - accuracy: 0.7283\n",
      "Epoch 72/100\n",
      "4000/4000 [==============================] - 2s 395us/sample - loss: 0.5166 - accuracy: 0.7418\n",
      "Epoch 73/100\n",
      "4000/4000 [==============================] - 2s 385us/sample - loss: 0.5254 - accuracy: 0.7400\n",
      "Epoch 74/100\n",
      "4000/4000 [==============================] - 2s 383us/sample - loss: 0.5486 - accuracy: 0.7203\n",
      "Epoch 75/100\n",
      "4000/4000 [==============================] - 2s 387us/sample - loss: 0.5734 - accuracy: 0.7065\n",
      "Epoch 76/100\n"
     ]
    },
    {
     "name": "stdout",
     "output_type": "stream",
     "text": [
      "4000/4000 [==============================] - 2s 414us/sample - loss: 0.5496 - accuracy: 0.7235\n",
      "Epoch 77/100\n",
      "4000/4000 [==============================] - 2s 375us/sample - loss: 0.5521 - accuracy: 0.7210\n",
      "Epoch 78/100\n",
      "4000/4000 [==============================] - 1s 360us/sample - loss: 0.5807 - accuracy: 0.7195\n",
      "Epoch 79/100\n",
      "4000/4000 [==============================] - 2s 390us/sample - loss: 0.6155 - accuracy: 0.6880\n",
      "Epoch 80/100\n",
      "4000/4000 [==============================] - 2s 387us/sample - loss: 0.6029 - accuracy: 0.6945\n",
      "Epoch 81/100\n",
      "4000/4000 [==============================] - 2s 381us/sample - loss: 0.6372 - accuracy: 0.6622\n",
      "Epoch 82/100\n",
      "4000/4000 [==============================] - 2s 377us/sample - loss: 0.6158 - accuracy: 0.6795\n",
      "Epoch 83/100\n",
      "4000/4000 [==============================] - 1s 375us/sample - loss: 0.6752 - accuracy: 0.6630\n",
      "Epoch 84/100\n",
      "4000/4000 [==============================] - 1s 355us/sample - loss: 0.6127 - accuracy: 0.6825\n",
      "Epoch 85/100\n",
      "4000/4000 [==============================] - 2s 399us/sample - loss: 0.6938 - accuracy: 0.6060\n",
      "Epoch 86/100\n",
      "4000/4000 [==============================] - 2s 395us/sample - loss: 0.6964 - accuracy: 0.5788\n",
      "Epoch 87/100\n",
      "4000/4000 [==============================] - 1s 367us/sample - loss: 0.7281 - accuracy: 0.5713\n",
      "Epoch 88/100\n",
      "4000/4000 [==============================] - 2s 376us/sample - loss: 0.7206 - accuracy: 0.5688\n",
      "Epoch 89/100\n",
      "4000/4000 [==============================] - 2s 439us/sample - loss: 0.6983 - accuracy: 0.5888\n",
      "Epoch 90/100\n",
      "4000/4000 [==============================] - 2s 413us/sample - loss: 0.7346 - accuracy: 0.5537\n",
      "Epoch 91/100\n",
      "4000/4000 [==============================] - 1s 372us/sample - loss: 0.8023 - accuracy: 0.5268\n",
      "Epoch 92/100\n",
      "4000/4000 [==============================] - 2s 376us/sample - loss: 0.8118 - accuracy: 0.5350\n",
      "Epoch 93/100\n",
      "4000/4000 [==============================] - 1s 364us/sample - loss: 0.7809 - accuracy: 0.5415\n",
      "Epoch 94/100\n",
      "4000/4000 [==============================] - 2s 378us/sample - loss: 0.7767 - accuracy: 0.5403\n",
      "Epoch 95/100\n",
      "4000/4000 [==============================] - 1s 368us/sample - loss: 0.7913 - accuracy: 0.5295\n",
      "Epoch 96/100\n",
      "4000/4000 [==============================] - 2s 378us/sample - loss: 0.9958 - accuracy: 0.5142\n",
      "Epoch 97/100\n",
      "4000/4000 [==============================] - 1s 369us/sample - loss: 1.0612 - accuracy: 0.5135\n",
      "Epoch 98/100\n",
      "4000/4000 [==============================] - 1s 373us/sample - loss: 0.9140 - accuracy: 0.5050\n",
      "Epoch 99/100\n",
      "4000/4000 [==============================] - 2s 376us/sample - loss: 0.8479 - accuracy: 0.5220\n",
      "Epoch 100/100\n",
      "4000/4000 [==============================] - 2s 392us/sample - loss: 0.9476 - accuracy: 0.5123\n"
     ]
    }
   ],
   "source": [
    "model = tf.keras.models.Sequential()\n",
    "model.add(tf.keras.layers.Embedding(len(uniq_words),50,weights=[embedding_matrix],input_length = max_length,trainable=False))\n",
    "model.add(tf.keras.layers.LSTM(7))\n",
    "model.add(tf.keras.layers.Dense(1,activation='sigmoid'))\n",
    "model.compile(optimizer=optimizer,loss='binary_crossentropy',metrics=['accuracy'])\n",
    "callback = tf.keras.callbacks.EarlyStopping('loss',1e-4,3,verbose=2)\n",
    "history = model.fit(train_pad,np.array(train_label),epochs=n_epochs,callbacks=[lr_sch])"
   ]
  },
  {
   "cell_type": "code",
   "execution_count": 49,
   "metadata": {
    "scrolled": true
   },
   "outputs": [
    {
     "data": {
      "image/png": "[encoded data removed]",
      "text/plain": [
       "<Figure size 432x288 with 1 Axes>"
      ]
     },
     "metadata": {
      "needs_background": "light"
     },
     "output_type": "display_data"
    }
   ],
   "source": [
    "import matplotlib.pyplot as plt\n",
    "%matplotlib inline\n",
    "plt.figure()\n",
    "plt.plot(np.log10(history.history[\"lr\"]), history.history[\"loss\"])\n",
    "plt.grid()"
   ]
  },
  {
   "cell_type": "markdown",
   "metadata": {},
   "source": [
    "Based on the above chart let us pick the learning rate to be 1e-1"
   ]
  },
  {
   "cell_type": "code",
   "execution_count": 59,
   "metadata": {},
   "outputs": [
    {
     "name": "stdout",
     "output_type": "stream",
     "text": [
      "Train on 4000 samples\n",
      "Epoch 1/300\n",
      "4000/4000 [==============================] - 3s 775us/sample - loss: 0.6932 - accuracy: 0.5303\n",
      "Epoch 2/300\n",
      "4000/4000 [==============================] - 1s 370us/sample - loss: 0.6837 - accuracy: 0.5675\n",
      "Epoch 3/300\n",
      "4000/4000 [==============================] - 2s 378us/sample - loss: 0.6804 - accuracy: 0.5660\n",
      "Epoch 4/300\n",
      "4000/4000 [==============================] - 1s 374us/sample - loss: 0.6768 - accuracy: 0.5832\n",
      "Epoch 5/300\n",
      "4000/4000 [==============================] - 2s 418us/sample - loss: 0.6754 - accuracy: 0.5903\n",
      "Epoch 6/300\n",
      "4000/4000 [==============================] - 1s 370us/sample - loss: 0.6710 - accuracy: 0.5907\n",
      "Epoch 7/300\n",
      "4000/4000 [==============================] - 2s 430us/sample - loss: 0.6628 - accuracy: 0.5945\n",
      "Epoch 8/300\n",
      "4000/4000 [==============================] - 1s 374us/sample - loss: 0.6492 - accuracy: 0.6120\n",
      "Epoch 9/300\n",
      "4000/4000 [==============================] - 2s 418us/sample - loss: 0.6357 - accuracy: 0.6435\n",
      "Epoch 10/300\n",
      "4000/4000 [==============================] - 2s 438us/sample - loss: 0.6169 - accuracy: 0.6612\n",
      "Epoch 11/300\n",
      "4000/4000 [==============================] - 2s 402us/sample - loss: 0.6036 - accuracy: 0.6805\n",
      "Epoch 12/300\n",
      "4000/4000 [==============================] - 1s 360us/sample - loss: 0.5893 - accuracy: 0.6977\n",
      "Epoch 13/300\n",
      "4000/4000 [==============================] - 2s 409us/sample - loss: 0.5792 - accuracy: 0.7015\n",
      "Epoch 14/300\n",
      "4000/4000 [==============================] - 2s 422us/sample - loss: 0.5656 - accuracy: 0.7122\n",
      "Epoch 15/300\n",
      "4000/4000 [==============================] - 2s 402us/sample - loss: 0.5746 - accuracy: 0.7130\n",
      "Epoch 16/300\n",
      "4000/4000 [==============================] - 2s 393us/sample - loss: 0.5642 - accuracy: 0.7135\n",
      "Epoch 17/300\n",
      "4000/4000 [==============================] - 2s 412us/sample - loss: 0.5632 - accuracy: 0.7168\n",
      "Epoch 18/300\n",
      "4000/4000 [==============================] - 1s 374us/sample - loss: 0.5529 - accuracy: 0.7182\n",
      "Epoch 19/300\n",
      "4000/4000 [==============================] - 1s 360us/sample - loss: 0.5416 - accuracy: 0.7228\n",
      "Epoch 20/300\n",
      "4000/4000 [==============================] - 2s 393us/sample - loss: 0.5319 - accuracy: 0.7350\n",
      "Epoch 21/300\n",
      "4000/4000 [==============================] - 2s 381us/sample - loss: 0.5429 - accuracy: 0.7228\n",
      "Epoch 22/300\n",
      "4000/4000 [==============================] - 2s 419us/sample - loss: 0.5280 - accuracy: 0.7360\n",
      "Epoch 23/300\n",
      "4000/4000 [==============================] - 2s 383us/sample - loss: 0.5240 - accuracy: 0.7415\n",
      "Epoch 24/300\n",
      "4000/4000 [==============================] - 2s 384us/sample - loss: 0.5218 - accuracy: 0.7490\n",
      "Epoch 25/300\n",
      "4000/4000 [==============================] - 2s 447us/sample - loss: 0.5201 - accuracy: 0.7440\n",
      "Epoch 26/300\n",
      "4000/4000 [==============================] - 2s 396us/sample - loss: 0.5197 - accuracy: 0.7423\n",
      "Epoch 27/300\n",
      "4000/4000 [==============================] - 2s 376us/sample - loss: 0.5070 - accuracy: 0.7487\n",
      "Epoch 28/300\n",
      "4000/4000 [==============================] - 2s 386us/sample - loss: 0.5045 - accuracy: 0.7523\n",
      "Epoch 29/300\n",
      "4000/4000 [==============================] - 2s 407us/sample - loss: 0.5044 - accuracy: 0.7523\n",
      "Epoch 30/300\n",
      "4000/4000 [==============================] - 2s 410us/sample - loss: 0.5030 - accuracy: 0.7550\n",
      "Epoch 31/300\n",
      "4000/4000 [==============================] - 1s 373us/sample - loss: 0.4976 - accuracy: 0.7575\n",
      "Epoch 32/300\n",
      "4000/4000 [==============================] - 1s 372us/sample - loss: 0.4924 - accuracy: 0.7617\n",
      "Epoch 33/300\n",
      "4000/4000 [==============================] - 2s 470us/sample - loss: 0.4936 - accuracy: 0.7582\n",
      "Epoch 34/300\n",
      "4000/4000 [==============================] - 2s 402us/sample - loss: 0.4953 - accuracy: 0.7567\n",
      "Epoch 35/300\n",
      "4000/4000 [==============================] - 2s 428us/sample - loss: 0.4871 - accuracy: 0.7642\n",
      "Epoch 36/300\n",
      "4000/4000 [==============================] - 2s 433us/sample - loss: 0.4861 - accuracy: 0.7665\n",
      "Epoch 37/300\n",
      "4000/4000 [==============================] - 2s 414us/sample - loss: 0.4819 - accuracy: 0.7688\n",
      "Epoch 38/300\n",
      "4000/4000 [==============================] - 2s 431us/sample - loss: 0.4893 - accuracy: 0.7598\n",
      "Epoch 39/300\n",
      "4000/4000 [==============================] - 2s 443us/sample - loss: 0.4824 - accuracy: 0.7682\n",
      "Epoch 40/300\n",
      "4000/4000 [==============================] - 2s 391us/sample - loss: 0.4777 - accuracy: 0.7710\n",
      "Epoch 41/300\n",
      "4000/4000 [==============================] - 2s 383us/sample - loss: 0.4767 - accuracy: 0.7673\n",
      "Epoch 42/300\n",
      "4000/4000 [==============================] - 2s 386us/sample - loss: 0.4748 - accuracy: 0.7657\n",
      "Epoch 43/300\n",
      "4000/4000 [==============================] - 2s 389us/sample - loss: 0.4749 - accuracy: 0.7713\n",
      "Epoch 44/300\n",
      "4000/4000 [==============================] - 2s 425us/sample - loss: 0.4677 - accuracy: 0.7790\n",
      "Epoch 45/300\n",
      "4000/4000 [==============================] - 2s 441us/sample - loss: 0.4642 - accuracy: 0.7780\n",
      "Epoch 46/300\n",
      "4000/4000 [==============================] - 2s 376us/sample - loss: 0.4651 - accuracy: 0.7768\n",
      "Epoch 47/300\n",
      "4000/4000 [==============================] - 2s 417us/sample - loss: 0.4632 - accuracy: 0.7815\n",
      "Epoch 48/300\n",
      "4000/4000 [==============================] - 2s 404us/sample - loss: 0.4617 - accuracy: 0.7812\n",
      "Epoch 49/300\n",
      "4000/4000 [==============================] - 2s 466us/sample - loss: 0.4668 - accuracy: 0.7805\n",
      "Epoch 50/300\n",
      "4000/4000 [==============================] - 2s 387us/sample - loss: 0.4680 - accuracy: 0.7753\n",
      "Epoch 51/300\n",
      "4000/4000 [==============================] - 2s 387us/sample - loss: 0.4560 - accuracy: 0.7880\n",
      "Epoch 52/300\n",
      "4000/4000 [==============================] - 1s 373us/sample - loss: 0.4539 - accuracy: 0.7925\n",
      "Epoch 53/300\n",
      "4000/4000 [==============================] - 2s 397us/sample - loss: 0.4524 - accuracy: 0.7895\n",
      "Epoch 54/300\n",
      "4000/4000 [==============================] - 2s 386us/sample - loss: 0.4501 - accuracy: 0.7900\n",
      "Epoch 55/300\n",
      "4000/4000 [==============================] - 2s 388us/sample - loss: 0.4511 - accuracy: 0.7878\n",
      "Epoch 56/300\n",
      "4000/4000 [==============================] - 2s 387us/sample - loss: 0.4493 - accuracy: 0.7958\n",
      "Epoch 57/300\n",
      "4000/4000 [==============================] - 2s 385us/sample - loss: 0.4445 - accuracy: 0.7895\n",
      "Epoch 58/300\n",
      "4000/4000 [==============================] - 2s 387us/sample - loss: 0.4429 - accuracy: 0.7905\n",
      "Epoch 59/300\n",
      "4000/4000 [==============================] - 2s 384us/sample - loss: 0.4462 - accuracy: 0.7903\n",
      "Epoch 60/300\n",
      "4000/4000 [==============================] - 2s 388us/sample - loss: 0.4417 - accuracy: 0.7937\n",
      "Epoch 61/300\n",
      "4000/4000 [==============================] - 2s 383us/sample - loss: 0.4360 - accuracy: 0.7997\n",
      "Epoch 62/300\n",
      "4000/4000 [==============================] - 2s 385us/sample - loss: 0.4334 - accuracy: 0.8035\n",
      "Epoch 63/300\n",
      "4000/4000 [==============================] - 1s 365us/sample - loss: 0.4348 - accuracy: 0.7997\n",
      "Epoch 64/300\n",
      "4000/4000 [==============================] - 2s 380us/sample - loss: 0.4345 - accuracy: 0.8000\n",
      "Epoch 65/300\n",
      "4000/4000 [==============================] - 2s 437us/sample - loss: 0.4351 - accuracy: 0.8010\n",
      "Epoch 66/300\n",
      "4000/4000 [==============================] - 2s 385us/sample - loss: 0.4285 - accuracy: 0.8015\n",
      "Epoch 67/300\n",
      "4000/4000 [==============================] - 1s 365us/sample - loss: 0.4277 - accuracy: 0.8030\n",
      "Epoch 68/300\n",
      "4000/4000 [==============================] - 1s 363us/sample - loss: 0.4282 - accuracy: 0.8027\n",
      "Epoch 69/300\n",
      "4000/4000 [==============================] - 1s 372us/sample - loss: 0.4221 - accuracy: 0.8067\n",
      "Epoch 70/300\n",
      "4000/4000 [==============================] - 1s 369us/sample - loss: 0.4217 - accuracy: 0.8092\n",
      "Epoch 71/300\n",
      "4000/4000 [==============================] - 1s 372us/sample - loss: 0.4179 - accuracy: 0.8115\n",
      "Epoch 72/300\n",
      "4000/4000 [==============================] - 1s 360us/sample - loss: 0.4135 - accuracy: 0.8092\n",
      "Epoch 73/300\n",
      "4000/4000 [==============================] - 1s 366us/sample - loss: 0.4177 - accuracy: 0.8155\n",
      "Epoch 74/300\n",
      "4000/4000 [==============================] - 1s 365us/sample - loss: 0.4157 - accuracy: 0.8145\n",
      "Epoch 75/300\n",
      "4000/4000 [==============================] - 1s 373us/sample - loss: 0.4082 - accuracy: 0.8170\n",
      "Epoch 76/300\n"
     ]
    },
    {
     "name": "stdout",
     "output_type": "stream",
     "text": [
      "4000/4000 [==============================] - 1s 341us/sample - loss: 0.4104 - accuracy: 0.8140\n",
      "Epoch 77/300\n",
      "4000/4000 [==============================] - 1s 342us/sample - loss: 0.4143 - accuracy: 0.8190\n",
      "Epoch 78/300\n",
      "4000/4000 [==============================] - 1s 351us/sample - loss: 0.4053 - accuracy: 0.8192\n",
      "Epoch 79/300\n",
      "4000/4000 [==============================] - 1s 350us/sample - loss: 0.4047 - accuracy: 0.8170\n",
      "Epoch 80/300\n",
      "4000/4000 [==============================] - 1s 352us/sample - loss: 0.4020 - accuracy: 0.8210\n",
      "Epoch 81/300\n",
      "4000/4000 [==============================] - 2s 376us/sample - loss: 0.4062 - accuracy: 0.8173\n",
      "Epoch 82/300\n",
      "4000/4000 [==============================] - 1s 349us/sample - loss: 0.4013 - accuracy: 0.8213\n",
      "Epoch 83/300\n",
      "4000/4000 [==============================] - 1s 371us/sample - loss: 0.4048 - accuracy: 0.8160\n",
      "Epoch 84/300\n",
      "4000/4000 [==============================] - 1s 360us/sample - loss: 0.4064 - accuracy: 0.8142\n",
      "Epoch 85/300\n",
      "4000/4000 [==============================] - 1s 354us/sample - loss: 0.3974 - accuracy: 0.8210\n",
      "Epoch 86/300\n",
      "4000/4000 [==============================] - 2s 377us/sample - loss: 0.3947 - accuracy: 0.8232\n",
      "Epoch 87/300\n",
      "4000/4000 [==============================] - 1s 353us/sample - loss: 0.3893 - accuracy: 0.8305\n",
      "Epoch 88/300\n",
      "4000/4000 [==============================] - 1s 349us/sample - loss: 0.3978 - accuracy: 0.8240\n",
      "Epoch 89/300\n",
      "4000/4000 [==============================] - 1s 344us/sample - loss: 0.3859 - accuracy: 0.8278\n",
      "Epoch 90/300\n",
      "4000/4000 [==============================] - 2s 386us/sample - loss: 0.3984 - accuracy: 0.8210\n",
      "Epoch 91/300\n",
      "4000/4000 [==============================] - 1s 360us/sample - loss: 0.3792 - accuracy: 0.8347\n",
      "Epoch 92/300\n",
      "4000/4000 [==============================] - 1s 355us/sample - loss: 0.3858 - accuracy: 0.8275\n",
      "Epoch 93/300\n",
      "4000/4000 [==============================] - 1s 375us/sample - loss: 0.3812 - accuracy: 0.8315\n",
      "Epoch 94/300\n",
      "4000/4000 [==============================] - 1s 347us/sample - loss: 0.3746 - accuracy: 0.8353\n",
      "Epoch 95/300\n",
      "4000/4000 [==============================] - 1s 346us/sample - loss: 0.3776 - accuracy: 0.8315\n",
      "Epoch 96/300\n",
      "4000/4000 [==============================] - 2s 397us/sample - loss: 0.3718 - accuracy: 0.8405\n",
      "Epoch 97/300\n",
      "4000/4000 [==============================] - 2s 390us/sample - loss: 0.3719 - accuracy: 0.8390\n",
      "Epoch 98/300\n",
      "4000/4000 [==============================] - 2s 427us/sample - loss: 0.3826 - accuracy: 0.8325\n",
      "Epoch 99/300\n",
      "4000/4000 [==============================] - 2s 386us/sample - loss: 0.3648 - accuracy: 0.8425\n",
      "Epoch 100/300\n",
      "4000/4000 [==============================] - 2s 409us/sample - loss: 0.3667 - accuracy: 0.8395\n",
      "Epoch 101/300\n",
      "4000/4000 [==============================] - 1s 370us/sample - loss: 0.3668 - accuracy: 0.8428\n",
      "Epoch 102/300\n",
      "4000/4000 [==============================] - 2s 406us/sample - loss: 0.3675 - accuracy: 0.8438\n",
      "Epoch 103/300\n",
      "4000/4000 [==============================] - 1s 374us/sample - loss: 0.3660 - accuracy: 0.8440\n",
      "Epoch 00103: early stopping\n"
     ]
    }
   ],
   "source": [
    "model = tf.keras.models.Sequential()\n",
    "model.add(tf.keras.layers.Embedding(len(uniq_words),50,weights=[embedding_matrix],input_length = max_length,trainable=False))\n",
    "model.add(tf.keras.layers.LSTM(7))\n",
    "model.add(tf.keras.layers.Dense(1,activation='sigmoid'))\n",
    "optimizer = tf.keras.optimizers.SGD(lr=1e-2, momentum=0.9)\n",
    "model.compile(optimizer=optimizer,loss='binary_crossentropy',metrics=['accuracy'])\n",
    "callback = tf.keras.callbacks.EarlyStopping('loss',1e-4,4,verbose=2)\n",
    "history = model.fit(train_pad,np.array(train_label),epochs=300,callbacks=[callback])"
   ]
  },
  {
   "cell_type": "code",
   "execution_count": 60,
   "metadata": {
    "scrolled": false
   },
   "outputs": [
    {
     "data": {
      "text/plain": [
       "[0.607633671760559, 0.7225]"
      ]
     },
     "execution_count": 60,
     "metadata": {},
     "output_type": "execute_result"
    }
   ],
   "source": [
    "model.evaluate(test_pad,np.array(test_label),verbose=0)"
   ]
  },
  {
   "cell_type": "markdown",
   "metadata": {},
   "source": [
    "Accuracy is 72.25 on test set, perhaps we can choose 100dimension word embeddings and try"
   ]
  }
 ],
 "metadata": {
  "kernelspec": {
   "display_name": "Python 3",
   "language": "python",
   "name": "python3"
  },
  "language_info": {
   "codemirror_mode": {
    "name": "ipython",
    "version": 3
   },
   "file_extension": ".py",
   "mimetype": "text/x-python",
   "name": "python",
   "nbconvert_exporter": "python",
   "pygments_lexer": "ipython3",
   "version": "3.7.3"
  }
 },
 "nbformat": 4,
 "nbformat_minor": 2
}
